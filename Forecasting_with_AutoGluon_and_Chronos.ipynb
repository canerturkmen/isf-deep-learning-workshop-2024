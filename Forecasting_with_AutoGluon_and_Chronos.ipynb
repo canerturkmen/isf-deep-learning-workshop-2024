{
  "cells": [
    {
      "cell_type": "markdown",
      "id": "b0f6df2b",
      "metadata": {
        "id": "b0f6df2b"
      },
      "source": [
        "### ISF Workshop on Deep Learning, Foundational Models and AutoML for Forecasting\n",
        "\n",
        "Hands-on session, adapted from [\\[1\\]](https://colab.research.google.com/github/autogluon/autogluon/blob/stable/docs/tutorials/timeseries/forecasting-quick-start.ipynb), [\\[2\\]](https://colab.research.google.com/github/autogluon/autogluon/blob/stable/docs/tutorials/timeseries/forecasting-indepth.ipynb).\n",
        "\n",
        "<a target=\"_blank\" href=\"https://colab.research.google.com/github/https://github.dev/canerturkmen/isf-workshop-2024/blob/main/Forecasting_with_AutoGluon_and_Chronos.ipynb\">\n",
        "  <img src=\"https://colab.research.google.com/assets/colab-badge.svg\" alt=\"Open In Colab\"/>\n",
        "</a>\n",
        "\n",
        "Let's start by installing AutoGluon-TimeSeries and loading some data!\n",
        "\n",
        "- Always good to have the docs around: [auto.gluon.ai](https://auto.gluon.ai/).\n",
        "- Chronos models and datasets on [Hugging Face](https://huggingface.co/collections/amazon/chronos-models-and-datasets-65f1791d630a8d57cb718444)\n",
        "- GluonTS docs on [ts.gluon.ai](https://ts.gluon.ai)."
      ]
    },
    {
      "cell_type": "code",
      "execution_count": null,
      "id": "aa00faab-252f-44c9-b8f7-57131aa8251c",
      "metadata": {
        "id": "aa00faab-252f-44c9-b8f7-57131aa8251c",
        "tags": [
          "remove-cell",
          "skip-execution"
        ]
      },
      "outputs": [],
      "source": [
        "!pip install -q autogluon.timeseries  # `pip install autogluon` for getting all of AutoGluon!\n",
        "!pip install -q datasets"
      ]
    },
    {
      "cell_type": "code",
      "execution_count": null,
      "id": "843dc3c2",
      "metadata": {
        "id": "843dc3c2"
      },
      "outputs": [],
      "source": [
        "import datasets\n",
        "import pandas as pd\n",
        "from matplotlib import pyplot as plt\n",
        "\n",
        "from autogluon.timeseries import TimeSeriesDataFrame, TimeSeriesPredictor"
      ]
    },
    {
      "cell_type": "markdown",
      "id": "519d689a",
      "metadata": {
        "id": "519d689a"
      },
      "source": [
        "To use `autogluon.timeseries`, we will only need the following two classes:\n",
        "\n",
        "- `TimeSeriesDataFrame` stores a dataset consisting of multiple time series.\n",
        "- `TimeSeriesPredictor` takes care of fitting, tuning and selecting the best forecasting models, as well as generating new forecasts.\n",
        "\n",
        "AutoGluon expects time series data in [long format](https://doc.dataiku.com/dss/latest/time-series/data-formatting.html#long-format).\n",
        "Each row of the data frame contains a single observation (timestep) of a single time series represented by\n",
        "\n",
        "- unique ID of the time series (`\"item_id\"`) as int or str\n",
        "- timestamp of the observation (`\"timestamp\"`) as a `pandas.Timestamp` or compatible format\n",
        "- numeric value of the time series (`\"target\"`)"
      ]
    },
    {
      "cell_type": "code",
      "execution_count": null,
      "id": "d73ddcc9",
      "metadata": {
        "id": "d73ddcc9"
      },
      "outputs": [],
      "source": [
        "raw_df = pd.read_csv(\"https://autogluon.s3.amazonaws.com/datasets/timeseries/m4_hourly_tiny/train.csv\")\n",
        "\n",
        "m4_train_data = TimeSeriesDataFrame(\n",
        "    raw_df,\n",
        "    id_column=\"item_id\",\n",
        ")\n",
        "\n",
        "m4_test_data = TimeSeriesDataFrame.from_path(\"https://autogluon.s3.amazonaws.com/datasets/timeseries/m4_hourly_tiny/test.csv\")\n",
        "\n",
        "m4_train_data"
      ]
    },
    {
      "cell_type": "markdown",
      "id": "bfee8b9b",
      "metadata": {
        "id": "bfee8b9b"
      },
      "source": [
        "- We refer to each individual time series stored in a `TimeSeriesDataFrame` as an _item_.\n",
        "- For example, items might correspond to different products in demand forecasting, or to different stocks in financial datasets."
      ]
    },
    {
      "cell_type": "code",
      "execution_count": null,
      "id": "3VN-JPf3eZLs",
      "metadata": {
        "id": "3VN-JPf3eZLs"
      },
      "outputs": [],
      "source": [
        "plt.figure(figsize=(10, 3))\n",
        "plt.plot(\n",
        "    m4_train_data.loc[\"H10\"]\n",
        ")"
      ]
    },
    {
      "cell_type": "markdown",
      "id": "22fa6c06",
      "metadata": {
        "id": "22fa6c06"
      },
      "source": [
        "### Basic Training Run with AutoGluon-TimeSeries\n",
        "\n",
        "We need to define\n",
        "- The _task_ in the predictor initialization (prediction_length, eval_metric)\n",
        "- Predictor `fit` takes parameters on _how_ to train the forecaster."
      ]
    },
    {
      "cell_type": "code",
      "execution_count": null,
      "id": "f7ef668c",
      "metadata": {
        "id": "f7ef668c"
      },
      "outputs": [],
      "source": [
        "predictor = TimeSeriesPredictor(\n",
        "    prediction_length=48,\n",
        "    eval_metric=\"MASE\",\n",
        "    # path=\"my-autogluon-model\",\n",
        "    # target=\"target\",\n",
        ")\n",
        "\n",
        "predictor.fit(m4_train_data, time_limit=2 * 60)\n"
      ]
    },
    {
      "cell_type": "code",
      "execution_count": null,
      "id": "4a238183",
      "metadata": {
        "id": "4a238183"
      },
      "outputs": [],
      "source": [
        "predictions = predictor.predict(m4_train_data)\n",
        "predictions.head()"
      ]
    },
    {
      "cell_type": "code",
      "execution_count": null,
      "id": "eTXfoENp-tTh",
      "metadata": {
        "id": "eTXfoENp-tTh"
      },
      "outputs": [],
      "source": [
        "predictor.leaderboard()"
      ]
    },
    {
      "cell_type": "code",
      "execution_count": null,
      "id": "d2455126",
      "metadata": {
        "id": "d2455126"
      },
      "outputs": [],
      "source": [
        "# TimeSeriesDataFrame can also be loaded directly from a file\n",
        "predictor.plot(m4_test_data, predictions, quantile_levels=[0.1, 0.9], max_history_length=200, max_num_item_ids=4);\n"
      ]
    },
    {
      "cell_type": "code",
      "execution_count": null,
      "id": "2f4f8e9c",
      "metadata": {
        "id": "2f4f8e9c"
      },
      "outputs": [],
      "source": [
        "# The test score is computed using the last\n",
        "# prediction_length=48 timesteps of each time series in test_data\n",
        "predictor.leaderboard(m4_test_data)"
      ]
    },
    {
      "cell_type": "markdown",
      "id": "80a70f2e",
      "metadata": {
        "id": "80a70f2e"
      },
      "source": [
        "### Customizing AutoGluon-TimeSeries Training\n",
        "\n",
        "Let's look at a more realistic time series forecasting scenario.\n",
        "\n",
        "- With covariates\n",
        "- Probabilistic forecasting instead of point forecasting.\n",
        "- Multi-window backtesting"
      ]
    },
    {
      "cell_type": "code",
      "execution_count": null,
      "id": "48e1403b",
      "metadata": {
        "id": "48e1403b"
      },
      "outputs": [],
      "source": [
        "# check out the Chronos datasets on Hugging Face!\n",
        "\n",
        "features = [\"timestamp\", \"t_mean\", \"prcp_sum\"]\n",
        "\n",
        "# Load from Hugging Face\n",
        "raw_df = datasets.load_dataset(\n",
        "    path=\"autogluon/chronos_datasets\",\n",
        "    name=\"monash_temperature_rain\",\n",
        "    split=\"train[:20]\",\n",
        ").select_columns(\n",
        "    [\"id\"] + features\n",
        ").to_pandas().explode(features).infer_objects()\n",
        "\n",
        "raw_data = TimeSeriesDataFrame(raw_df, id_column=\"id\")\n",
        "\n",
        "train_data = raw_data.slice_by_timestep(end_index=-3)\n",
        "test_data = raw_data\n",
        "\n",
        "train_data"
      ]
    },
    {
      "cell_type": "code",
      "execution_count": null,
      "id": "6b5daeb4",
      "metadata": {
        "id": "6b5daeb4"
      },
      "outputs": [],
      "source": [
        "predictor = TimeSeriesPredictor(\n",
        "    prediction_length=3,\n",
        "    path=\"my-better-autogluon-model\",\n",
        "    eval_metric=\"WQL\",  # let's go probabilistic\n",
        "    quantile_levels=[0.05, 0.5, 0.95],  # quantile levels to consider\n",
        "    target=\"t_mean\",\n",
        "    known_covariates_names=[\"prcp_sum\"],\n",
        ")\n",
        "\n",
        "predictor.fit(\n",
        "    train_data,\n",
        "    presets=\"medium_quality\",  # see: https://auto.gluon.ai/stable/api/autogluon.timeseries.TimeSeriesPredictor.fit.html\n",
        "    time_limit=4 * 60,\n",
        "    num_val_windows=3,  # multi-window testing\n",
        ")"
      ]
    },
    {
      "cell_type": "code",
      "execution_count": null,
      "id": "a8112bae",
      "metadata": {
        "id": "a8112bae"
      },
      "outputs": [],
      "source": [
        "predictor.leaderboard(test_data)"
      ]
    },
    {
      "cell_type": "markdown",
      "id": "3430d2d7",
      "metadata": {
        "id": "3430d2d7"
      },
      "source": [
        "### Forecasting with Chronos"
      ]
    },
    {
      "cell_type": "code",
      "execution_count": null,
      "id": "a31f0606",
      "metadata": {
        "id": "a31f0606"
      },
      "outputs": [],
      "source": [
        "predictor = TimeSeriesPredictor(\n",
        "    prediction_length=48,\n",
        "    path=\"my-autogluon-model-with-chronos\",\n",
        ")\n",
        "\n",
        "predictor.fit(\n",
        "    m4_train_data,\n",
        "    presets=\"chronos_tiny\",\n",
        "    time_limit=60 * 60,\n",
        ")"
      ]
    },
    {
      "cell_type": "code",
      "execution_count": null,
      "id": "bda3ee80",
      "metadata": {
        "id": "bda3ee80"
      },
      "outputs": [],
      "source": [
        "predictions = predictor.predict(\n",
        "    m4_test_data.slice_by_timestep(end_index=-48),\n",
        ")\n",
        "\n",
        "predictor.plot(\n",
        "    data=m4_test_data,\n",
        "    predictions=predictions,\n",
        "    quantile_levels=[0.1, 0.9],\n",
        "    max_num_item_ids=4,\n",
        ")"
      ]
    },
    {
      "cell_type": "code",
      "execution_count": null,
      "id": "7579bfa8",
      "metadata": {
        "id": "7579bfa8"
      },
      "outputs": [],
      "source": [
        "predictor = TimeSeriesPredictor(prediction_length=48)\n",
        "\n",
        "predictor.fit(\n",
        "    m4_train_data,\n",
        "    hyperparameters={\n",
        "        \"Chronos\": {\"model_path\": \"tiny\"},\n",
        "        \"DeepAR\": {},\n",
        "        \"RecursiveTabular\": {},\n",
        "    },\n",
        "    time_limit=5*60,\n",
        ")\n",
        "\n",
        "predictions = predictor.predict(\n",
        "    m4_test_data.slice_by_timestep(end_index=-48),\n",
        ")\n",
        "\n",
        "_ = predictor.plot(\n",
        "    data=m4_test_data,\n",
        "    predictions=predictions,\n",
        "    quantile_levels=[0.1, 0.9],\n",
        "    max_num_item_ids=4,\n",
        ")"
      ]
    }
  ],
  "metadata": {
    "colab": {
      "provenance": []
    },
    "kernelspec": {
      "display_name": "ag",
      "language": "python",
      "name": "python3"
    },
    "language_info": {
      "codemirror_mode": {
        "name": "ipython",
        "version": 3
      },
      "file_extension": ".py",
      "mimetype": "text/x-python",
      "name": "python",
      "nbconvert_exporter": "python",
      "pygments_lexer": "ipython3",
      "version": "3.10.13"
    }
  },
  "nbformat": 4,
  "nbformat_minor": 5
}
